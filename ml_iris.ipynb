{
  "nbformat": 4,
  "nbformat_minor": 0,
  "metadata": {
    "colab": {
      "name": "ml iris.ipynb",
      "provenance": [],
      "collapsed_sections": [],
      "authorship_tag": "ABX9TyOULJziD/w0HTcqb8lgQcH6",
      "include_colab_link": true
    },
    "kernelspec": {
      "name": "python3",
      "display_name": "Python 3"
    },
    "language_info": {
      "name": "python"
    }
  },
  "cells": [
    {
      "cell_type": "markdown",
      "metadata": {
        "id": "view-in-github",
        "colab_type": "text"
      },
      "source": [
        "<a href=\"https://colab.research.google.com/github/an1ruddh/ml/blob/main/ml_iris.ipynb\" target=\"_parent\"><img src=\"https://colab.research.google.com/assets/colab-badge.svg\" alt=\"Open In Colab\"/></a>"
      ]
    },
    {
      "cell_type": "code",
      "metadata": {
        "colab": {
          "base_uri": "https://localhost:8080/"
        },
        "id": "EDXjacc-kVYW",
        "outputId": "c9f07e83-a6a7-4762-f90f-a2ca4d2974c8"
      },
      "source": [
        "from sklearn.datasets import load_iris\n",
        "\n",
        "iris = load_iris()\n",
        "from sklearn.tree import DecisionTreeClassifier\n",
        "model = DecisionTreeClassifier()\n",
        "model.fit(iris.data,iris.target) #training the model"
      ],
      "execution_count": 7,
      "outputs": [
        {
          "output_type": "execute_result",
          "data": {
            "text/plain": [
              "DecisionTreeClassifier()"
            ]
          },
          "metadata": {},
          "execution_count": 7
        }
      ]
    },
    {
      "cell_type": "code",
      "metadata": {
        "colab": {
          "base_uri": "https://localhost:8080/",
          "height": 35
        },
        "id": "VJYzk6G-mbni",
        "outputId": "74eb0e58-7002-44b2-bcd1-f38c38c53bda"
      },
      "source": [
        "op = model.predict([[6.3,3.4,5.6,2.4]])\n",
        "iris.target_names[op[0]]"
      ],
      "execution_count": 8,
      "outputs": [
        {
          "output_type": "execute_result",
          "data": {
            "application/vnd.google.colaboratory.intrinsic+json": {
              "type": "string"
            },
            "text/plain": [
              "'virginica'"
            ]
          },
          "metadata": {},
          "execution_count": 8
        }
      ]
    },
    {
      "cell_type": "code",
      "metadata": {
        "id": "NeJGBqvnoJMT"
      },
      "source": [
        ""
      ],
      "execution_count": null,
      "outputs": []
    },
    {
      "cell_type": "code",
      "metadata": {
        "colab": {
          "base_uri": "https://localhost:8080/"
        },
        "id": "uMNBvo8OhMo9",
        "outputId": "69499a07-b1e7-46de-9dcd-2026fbdbc85c"
      },
      "source": [
        "!pip install streamlit --quiet\n",
        "!pip install pyngrok==4.1.1 --quiet\n",
        "from pyngrok import ngrok"
      ],
      "execution_count": 9,
      "outputs": [
        {
          "output_type": "stream",
          "name": "stdout",
          "text": [
            "\u001b[K     |████████████████████████████████| 9.1 MB 9.3 MB/s \n",
            "\u001b[K     |████████████████████████████████| 4.3 MB 42.0 MB/s \n",
            "\u001b[K     |████████████████████████████████| 111 kB 45.3 MB/s \n",
            "\u001b[K     |████████████████████████████████| 76 kB 4.5 MB/s \n",
            "\u001b[K     |████████████████████████████████| 180 kB 48.8 MB/s \n",
            "\u001b[K     |████████████████████████████████| 178 kB 49.9 MB/s \n",
            "\u001b[K     |████████████████████████████████| 63 kB 1.5 MB/s \n",
            "\u001b[K     |████████████████████████████████| 125 kB 50.8 MB/s \n",
            "\u001b[K     |████████████████████████████████| 791 kB 41.4 MB/s \n",
            "\u001b[K     |████████████████████████████████| 374 kB 48.3 MB/s \n",
            "\u001b[?25h  Building wheel for pympler (setup.py) ... \u001b[?25l\u001b[?25hdone\n",
            "  Building wheel for blinker (setup.py) ... \u001b[?25l\u001b[?25hdone\n",
            "\u001b[31mERROR: pip's dependency resolver does not currently take into account all the packages that are installed. This behaviour is the source of the following dependency conflicts.\n",
            "jupyter-console 5.2.0 requires prompt-toolkit<2.0.0,>=1.0.0, but you have prompt-toolkit 3.0.23 which is incompatible.\n",
            "google-colab 1.0.0 requires ipykernel~=4.10, but you have ipykernel 6.5.1 which is incompatible.\n",
            "google-colab 1.0.0 requires ipython~=5.5.0, but you have ipython 7.30.0 which is incompatible.\u001b[0m\n",
            "  Building wheel for pyngrok (setup.py) ... \u001b[?25l\u001b[?25hdone\n"
          ]
        }
      ]
    },
    {
      "cell_type": "code",
      "metadata": {
        "colab": {
          "base_uri": "https://localhost:8080/"
        },
        "id": "Mt49yRWPhRz5",
        "outputId": "bb38f5cf-8f9d-423c-f56a-d4e898d8bd69"
      },
      "source": [
        "%%writefile app.py\n",
        "import streamlit as st\n",
        "st.title('iris machine learning')\n",
        "from sklearn.datasets import load_iris\n",
        "\n",
        "iris = load_iris()\n",
        "from sklearn.tree import DecisionTreeClassifier\n",
        "model = DecisionTreeClassifier()\n",
        "model.fit(iris.data,iris.target) #training the model\n",
        "sl= st.slider('sepal length',4.3,7.9,5.0)\n",
        "sw= st.slider('sepal width',2.0,4.4,4.3)\n",
        "pl= st.slider('petal lenght',1.0,6.9,5.0)\n",
        "pw= st.slider('petal width',0.1,2.5,3.0)\n",
        "op = model.predict([[sl,sw,pl,pw]])\n",
        "res = iris.target_names[op[0]]\n",
        "st.title(res.upper())\n"
      ],
      "execution_count": 14,
      "outputs": [
        {
          "output_type": "stream",
          "name": "stdout",
          "text": [
            "Overwriting app.py\n"
          ]
        }
      ]
    },
    {
      "cell_type": "code",
      "metadata": {
        "colab": {
          "base_uri": "https://localhost:8080/"
        },
        "id": "OJ-luG0xoJbz",
        "outputId": "b9557a10-339c-45f6-f272-466c0b0ef896"
      },
      "source": [
        "!nohup streamlit run app.py &\n",
        "url = ngrok.connect(port = '8501')\n",
        "print(url)"
      ],
      "execution_count": 12,
      "outputs": [
        {
          "output_type": "stream",
          "name": "stdout",
          "text": [
            "nohup: appending output to 'nohup.out'\n",
            "http://a4c9-34-105-55-124.ngrok.io\n"
          ]
        }
      ]
    }
  ]
}